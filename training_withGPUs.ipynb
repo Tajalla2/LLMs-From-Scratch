{
  "nbformat": 4,
  "nbformat_minor": 0,
  "metadata": {
    "colab": {
      "provenance": [],
      "gpuType": "T4",
      "authorship_tag": "ABX9TyO6rHXbbdjEjZ0UzwAuKs/D",
      "include_colab_link": true
    },
    "kernelspec": {
      "name": "python3",
      "display_name": "Python 3"
    },
    "language_info": {
      "name": "python"
    },
    "accelerator": "GPU"
  },
  "cells": [
    {
      "cell_type": "markdown",
      "metadata": {
        "id": "view-in-github",
        "colab_type": "text"
      },
      "source": [
        "<a href=\"https://colab.research.google.com/github/Tajalla2/LLMs-From-Scratch/blob/main/training_withGPUs.ipynb\" target=\"_parent\"><img src=\"https://colab.research.google.com/assets/colab-badge.svg\" alt=\"Open In Colab\"/></a>"
      ]
    },
    {
      "cell_type": "code",
      "execution_count": 1,
      "metadata": {
        "colab": {
          "base_uri": "https://localhost:8080/"
        },
        "id": "OYqHlZ5OqbR0",
        "outputId": "682ff2e4-5cab-4c97-d405-bfbcd2d0f0d5"
      },
      "outputs": [
        {
          "output_type": "stream",
          "name": "stdout",
          "text": [
            "2.3.0+cu121\n"
          ]
        }
      ],
      "source": [
        "import torch\n",
        "print(torch.__version__)"
      ]
    },
    {
      "cell_type": "code",
      "source": [
        "print(torch.cuda.is_available())"
      ],
      "metadata": {
        "colab": {
          "base_uri": "https://localhost:8080/"
        },
        "id": "e9L29WDwqsGf",
        "outputId": "d506aa24-5525-4d1a-935d-f7dcaaca2f32"
      },
      "execution_count": 2,
      "outputs": [
        {
          "output_type": "stream",
          "name": "stdout",
          "text": [
            "True\n"
          ]
        }
      ]
    },
    {
      "cell_type": "code",
      "source": [
        "tensor1 = torch.tensor([1.,2.,3.])\n",
        "tensor2 = torch.tensor([4.,5.,6.])\n",
        "print(tensor1+tensor2)"
      ],
      "metadata": {
        "colab": {
          "base_uri": "https://localhost:8080/"
        },
        "id": "il8f1DLtq9ZG",
        "outputId": "ad90c079-4e50-4b23-bad3-1681befa1563"
      },
      "execution_count": 3,
      "outputs": [
        {
          "output_type": "stream",
          "name": "stdout",
          "text": [
            "tensor([5., 7., 9.])\n"
          ]
        }
      ]
    },
    {
      "cell_type": "code",
      "source": [
        "tensor1= tensor1.to(\"cuda\")\n",
        "tensor2=tensor2.to(\"cuda\")\n",
        "print(tensor1+tensor2)"
      ],
      "metadata": {
        "colab": {
          "base_uri": "https://localhost:8080/"
        },
        "id": "Y4UPF6YyrVOh",
        "outputId": "7354d26b-c291-44a5-c86c-42997aa3d259"
      },
      "execution_count": 4,
      "outputs": [
        {
          "output_type": "stream",
          "name": "stdout",
          "text": [
            "tensor([5., 7., 9.], device='cuda:0')\n"
          ]
        }
      ]
    },
    {
      "cell_type": "code",
      "source": [
        "tensor1= tensor1.to(\"cpu\")\n",
        "print(tensor1+tensor2)"
      ],
      "metadata": {
        "colab": {
          "base_uri": "https://localhost:8080/",
          "height": 158
        },
        "id": "6pBXz1S-rf9w",
        "outputId": "f8e0aee5-e9ba-4853-f557-bbd8fd9089fc"
      },
      "execution_count": 5,
      "outputs": [
        {
          "output_type": "error",
          "ename": "RuntimeError",
          "evalue": "Expected all tensors to be on the same device, but found at least two devices, cuda:0 and cpu!",
          "traceback": [
            "\u001b[0;31m---------------------------------------------------------------------------\u001b[0m",
            "\u001b[0;31mRuntimeError\u001b[0m                              Traceback (most recent call last)",
            "\u001b[0;32m<ipython-input-5-47ec98b683d1>\u001b[0m in \u001b[0;36m<cell line: 2>\u001b[0;34m()\u001b[0m\n\u001b[1;32m      1\u001b[0m \u001b[0mtensor1\u001b[0m\u001b[0;34m=\u001b[0m \u001b[0mtensor1\u001b[0m\u001b[0;34m.\u001b[0m\u001b[0mto\u001b[0m\u001b[0;34m(\u001b[0m\u001b[0;34m\"cpu\"\u001b[0m\u001b[0;34m)\u001b[0m\u001b[0;34m\u001b[0m\u001b[0;34m\u001b[0m\u001b[0m\n\u001b[0;32m----> 2\u001b[0;31m \u001b[0mprint\u001b[0m\u001b[0;34m(\u001b[0m\u001b[0mtensor1\u001b[0m\u001b[0;34m+\u001b[0m\u001b[0mtensor2\u001b[0m\u001b[0;34m)\u001b[0m\u001b[0;34m\u001b[0m\u001b[0;34m\u001b[0m\u001b[0m\n\u001b[0m",
            "\u001b[0;31mRuntimeError\u001b[0m: Expected all tensors to be on the same device, but found at least two devices, cuda:0 and cpu!"
          ]
        }
      ]
    },
    {
      "cell_type": "code",
      "source": [],
      "metadata": {
        "id": "n2fC8yg8rrwc"
      },
      "execution_count": null,
      "outputs": []
    },
    {
      "cell_type": "markdown",
      "source": [
        "Single GPU training\n"
      ],
      "metadata": {
        "id": "CNohFO0trzI_"
      }
    },
    {
      "cell_type": "code",
      "source": [
        "xtrain = torch.tensor([\n",
        "    [-1.2,3.1],\n",
        "    [-0.9,2.9],\n",
        "    [-0.5, 2.6],\n",
        "    [2.3, -1.1],\n",
        "    [2.7, -1.5]\n",
        "\n",
        "])\n",
        "ytrain = torch.tensor([0, 0, 0, 1, 1])\n",
        "xtest = torch.tensor([\n",
        "    [-0.8, 2.8],\n",
        "    [2.6, -1.6],\n",
        "])\n",
        "\n",
        "ytest = torch.tensor([0, 1])"
      ],
      "metadata": {
        "id": "k5l-hLLfr1K4"
      },
      "execution_count": 6,
      "outputs": []
    },
    {
      "cell_type": "code",
      "source": [
        "from torch.utils.data import Dataset\n",
        "\n",
        "class ToyDataset(Dataset):\n",
        "  def __init__(self,x,y):\n",
        "    self.features=x\n",
        "    self.labels=y\n",
        "\n",
        "  def __getitem__(self,index):\n",
        "    one_x = self.features[index]\n",
        "    one_y = self.labels[index]\n",
        "    return one_x,one_y\n",
        "\n",
        "  def __len__(self):\n",
        "    return self.labels.shape[0]\n",
        "\n",
        "train_ds = ToyDataset(xtrain,ytrain)\n",
        "test_ds = ToyDataset(xtest,ytest)"
      ],
      "metadata": {
        "id": "gtKKtl5dsism"
      },
      "execution_count": 7,
      "outputs": []
    },
    {
      "cell_type": "code",
      "source": [
        "from torch.utils.data import DataLoader\n",
        "torch.manual_seed(123)\n",
        "\n",
        "train_loader = DataLoader(\n",
        "    dataset=train_ds,\n",
        "    batch_size=2,\n",
        "    shuffle=True,\n",
        "    num_workers=1,\n",
        "    drop_last=True\n",
        ")\n",
        "\n",
        "test_loader = DataLoader(\n",
        "    dataset=test_ds,\n",
        "    batch_size=2,\n",
        "    shuffle=False,\n",
        "    num_workers=1\n",
        ")"
      ],
      "metadata": {
        "id": "GT8Qsntys8ei"
      },
      "execution_count": 8,
      "outputs": []
    },
    {
      "cell_type": "code",
      "source": [
        "class NeuralNetwork(torch.nn.Module):\n",
        "  def __init__(self,num_inputs,num_outputs):\n",
        "    super().__init__()\n",
        "    self.layers = torch.nn.Sequential(\n",
        "        torch.nn.Linear(num_inputs,30),\n",
        "        torch.nn.ReLU(),\n",
        "\n",
        "        torch.nn.Linear(30,20),\n",
        "        torch.nn.ReLU(),\n",
        "\n",
        "        torch.nn.Linear(20,num_outputs),\n",
        "\n",
        "    )\n",
        "  def forward(self,x):\n",
        "      logits = self.layers(x)\n",
        "      return logits"
      ],
      "metadata": {
        "id": "K9jBgyTgul_t"
      },
      "execution_count": 15,
      "outputs": []
    },
    {
      "cell_type": "code",
      "source": [
        "import torch.nn.functional as F\n",
        "\n",
        "torch.manual_seed(123)\n",
        "model = NeuralNetwork(num_inputs=2, num_outputs=2)\n",
        "device = torch.device(\"cuda\" if torch.cuda.is_available() else \"cpu\") # NEW\n",
        "model = model.to(device)\n",
        "\n",
        "optimizer = torch.optim.SGD(model.parameters(),lr=0.5)\n",
        "num_epochs=3\n",
        "\n",
        "for epoch in range(num_epochs):\n",
        "  model.train()\n",
        "  for batch_idx, (features,labels) in enumerate(train_loader):\n",
        "    features,labels = features.to(device), labels.to(device)\n",
        "    logits= model(features)\n",
        "    loss = F.cross_entropy(logits,labels)\n",
        "\n",
        "    optimizer.zero_grad()\n",
        "    loss.backward()\n",
        "    optimizer.step()\n",
        "\n",
        "    ##logging\n",
        "    print(f\"Epoch: {epoch+1:03d}/{num_epochs:03d}\"\n",
        "          f\" | Batch {batch_idx:03d}/{len(train_loader):03d}\"\n",
        "          f\" | Train/Val Loss {loss:.2f}\")\n",
        "  model.eval()"
      ],
      "metadata": {
        "colab": {
          "base_uri": "https://localhost:8080/"
        },
        "id": "bfXK4zWJ60pN",
        "outputId": "969feb6d-9d91-472e-9f6e-f7298d32e042"
      },
      "execution_count": 16,
      "outputs": [
        {
          "output_type": "stream",
          "name": "stdout",
          "text": [
            "Epoch: 001/003 | Batch 000/002 | Train/Val Loss 0.75\n",
            "Epoch: 001/003 | Batch 001/002 | Train/Val Loss 0.65\n",
            "Epoch: 002/003 | Batch 000/002 | Train/Val Loss 0.44\n",
            "Epoch: 002/003 | Batch 001/002 | Train/Val Loss 0.13\n",
            "Epoch: 003/003 | Batch 000/002 | Train/Val Loss 0.03\n",
            "Epoch: 003/003 | Batch 001/002 | Train/Val Loss 0.00\n"
          ]
        }
      ]
    },
    {
      "cell_type": "code",
      "source": [
        "def compute_accuracy(model,dataloader,device):\n",
        "  model = model.eval()\n",
        "  correct = 0.0\n",
        "  total_examples=0\n",
        "\n",
        "\n",
        "  for idx, (features,labels) in enumerate(dataloader):\n",
        "    features,labels = features.to(device),labels.to(device)\n",
        "\n",
        "    with torch.no_grad():\n",
        "      logits=model(features)\n",
        "\n",
        "    predictions = torch.argmax(logits,dim=1)\n",
        "    compare = labels == predictions\n",
        "    correct+= torch.sum(compare)\n",
        "    total_examples+=len(compare)\n",
        "\n",
        "    return (correct/total_examples).item()"
      ],
      "metadata": {
        "id": "pBqHXRqn_awE"
      },
      "execution_count": 17,
      "outputs": []
    },
    {
      "cell_type": "code",
      "source": [
        "compute_accuracy(model,train_loader,device)"
      ],
      "metadata": {
        "colab": {
          "base_uri": "https://localhost:8080/"
        },
        "id": "9olzs6QIDu6i",
        "outputId": "05dec360-5ed8-4605-cdd5-daca7be6b8bd"
      },
      "execution_count": 18,
      "outputs": [
        {
          "output_type": "execute_result",
          "data": {
            "text/plain": [
              "1.0"
            ]
          },
          "metadata": {},
          "execution_count": 18
        }
      ]
    },
    {
      "cell_type": "code",
      "source": [
        "compute_accuracy(model, test_loader, device=device)"
      ],
      "metadata": {
        "colab": {
          "base_uri": "https://localhost:8080/"
        },
        "id": "8BuM1aebD2pe",
        "outputId": "f4ce127b-43e7-4895-c3cb-9645332f55d8"
      },
      "execution_count": 19,
      "outputs": [
        {
          "output_type": "execute_result",
          "data": {
            "text/plain": [
              "1.0"
            ]
          },
          "metadata": {},
          "execution_count": 19
        }
      ]
    }
  ]
}