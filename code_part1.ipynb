{
  "nbformat": 4,
  "nbformat_minor": 0,
  "metadata": {
    "colab": {
      "provenance": [],
      "authorship_tag": "ABX9TyM80OA9bhZls06iKWNrJ31r"
    },
    "kernelspec": {
      "name": "python3",
      "display_name": "Python 3"
    },
    "language_info": {
      "name": "python"
    }
  },
  "cells": [
    {
      "cell_type": "code",
      "execution_count": 91,
      "metadata": {
        "id": "AK5I3ifgx-Uv"
      },
      "outputs": [],
      "source": [
        "import torch"
      ]
    },
    {
      "cell_type": "code",
      "source": [
        "print(torch.__version__)"
      ],
      "metadata": {
        "colab": {
          "base_uri": "https://localhost:8080/"
        },
        "id": "bi5xbt2uyKs5",
        "outputId": "56b5c037-fc71-49d8-f340-38e083eb62e4"
      },
      "execution_count": 92,
      "outputs": [
        {
          "output_type": "stream",
          "name": "stdout",
          "text": [
            "2.3.0+cu121\n"
          ]
        }
      ]
    },
    {
      "cell_type": "code",
      "source": [
        "print(torch.cuda.is_available())"
      ],
      "metadata": {
        "colab": {
          "base_uri": "https://localhost:8080/"
        },
        "id": "ZbP0LbCByOxU",
        "outputId": "41ca07f5-1595-4d9c-a999-843f2b131c22"
      },
      "execution_count": 93,
      "outputs": [
        {
          "output_type": "stream",
          "name": "stdout",
          "text": [
            "False\n"
          ]
        }
      ]
    },
    {
      "cell_type": "markdown",
      "source": [
        "# **Scalers, vectors, matrices and tensors**"
      ],
      "metadata": {
        "id": "sXLbV5Ub3zwU"
      }
    },
    {
      "cell_type": "code",
      "source": [
        "import numpy as np\n",
        "\n",
        "tensor0d = torch.tensor(2)\n",
        "\n",
        "tensor1d = torch.tensor([2,3])\n",
        "\n",
        "#2d tensor from nested python list\n",
        "tensor2d = torch.tensor([[1,1],[2,2]])\n",
        "\n",
        "#3d tensor from nested python list\n",
        "tensor3d = torch.tensor([[[1,1],[2,2]],[[3,3],[1,1]]])\n",
        "\n",
        "#create 3d tensor from numpy\n",
        "\n",
        "array3 = np.array([[[1,1],[2,2]],\n",
        "                   [[3,3],[1,1]]])\n",
        "tensor3d_2 = torch.tensor(array3) # copies numpy array\n",
        "tensor3d_3 = torch.from_numpy(array3) #shares memory with numpy array\n",
        "\n"
      ],
      "metadata": {
        "id": "XyDO25luyXrJ"
      },
      "execution_count": 94,
      "outputs": []
    },
    {
      "cell_type": "code",
      "source": [
        "array3[0,0,0] = 999\n",
        "print(tensor3d_2) #remains unchanged"
      ],
      "metadata": {
        "colab": {
          "base_uri": "https://localhost:8080/"
        },
        "id": "NnaMVEoEzaAQ",
        "outputId": "894459c9-f7db-44db-a3e7-43fe7845562d"
      },
      "execution_count": 95,
      "outputs": [
        {
          "output_type": "stream",
          "name": "stdout",
          "text": [
            "tensor([[[1, 1],\n",
            "         [2, 2]],\n",
            "\n",
            "        [[3, 3],\n",
            "         [1, 1]]])\n"
          ]
        }
      ]
    },
    {
      "cell_type": "code",
      "source": [
        "print(tensor3d_3) #changes because of memory sharing"
      ],
      "metadata": {
        "colab": {
          "base_uri": "https://localhost:8080/"
        },
        "id": "ijIXjmOW2_Uj",
        "outputId": "e5d92dac-0d3e-4ca7-9635-a7127852acaa"
      },
      "execution_count": 96,
      "outputs": [
        {
          "output_type": "stream",
          "name": "stdout",
          "text": [
            "tensor([[[999,   1],\n",
            "         [  2,   2]],\n",
            "\n",
            "        [[  3,   3],\n",
            "         [  1,   1]]])\n"
          ]
        }
      ]
    },
    {
      "cell_type": "code",
      "source": [],
      "metadata": {
        "id": "5TJZJzzy3pgu"
      },
      "execution_count": 96,
      "outputs": []
    },
    {
      "cell_type": "markdown",
      "source": [
        "**Tensor data types**"
      ],
      "metadata": {
        "id": "rpNUc3qo36wq"
      }
    },
    {
      "cell_type": "code",
      "source": [
        "tensor1d = torch.tensor([1,2,2])\n",
        "print(tensor1d.dtype)"
      ],
      "metadata": {
        "colab": {
          "base_uri": "https://localhost:8080/"
        },
        "id": "9Op-r18t3_Gs",
        "outputId": "04925c86-ae15-492d-a715-ab5ea4ea370e"
      },
      "execution_count": 97,
      "outputs": [
        {
          "output_type": "stream",
          "name": "stdout",
          "text": [
            "torch.int64\n"
          ]
        }
      ]
    },
    {
      "cell_type": "code",
      "source": [
        "floatvec = torch.tensor([1.0,2.0,3.0])\n",
        "print(floatvec.dtype)"
      ],
      "metadata": {
        "colab": {
          "base_uri": "https://localhost:8080/"
        },
        "id": "mJ1H0TQk4KSm",
        "outputId": "5b751746-7c6d-42d9-833d-9a8eaeafc0c2"
      },
      "execution_count": 98,
      "outputs": [
        {
          "output_type": "stream",
          "name": "stdout",
          "text": [
            "torch.float32\n"
          ]
        }
      ]
    },
    {
      "cell_type": "code",
      "source": [
        "floatvec = tensor1d.to(torch.float32)\n",
        "floatvec.dtype"
      ],
      "metadata": {
        "colab": {
          "base_uri": "https://localhost:8080/"
        },
        "id": "Bgm9B61j4i9J",
        "outputId": "aa276f0a-9870-4303-b290-3f6cb5c53fdf"
      },
      "execution_count": 99,
      "outputs": [
        {
          "output_type": "execute_result",
          "data": {
            "text/plain": [
              "torch.float32"
            ]
          },
          "metadata": {},
          "execution_count": 99
        }
      ]
    },
    {
      "cell_type": "markdown",
      "source": [
        "**Common pytorch tensor operations**"
      ],
      "metadata": {
        "id": "ksbK4RPE8af5"
      }
    },
    {
      "cell_type": "code",
      "source": [
        "tensor2d = torch.tensor([[1,2,3],[4,5,6]])\n",
        "tensor2d"
      ],
      "metadata": {
        "colab": {
          "base_uri": "https://localhost:8080/"
        },
        "id": "R_wBP60j8D0I",
        "outputId": "5ad85e75-f975-483c-fc22-adbefbe75029"
      },
      "execution_count": 100,
      "outputs": [
        {
          "output_type": "execute_result",
          "data": {
            "text/plain": [
              "tensor([[1, 2, 3],\n",
              "        [4, 5, 6]])"
            ]
          },
          "metadata": {},
          "execution_count": 100
        }
      ]
    },
    {
      "cell_type": "code",
      "source": [
        "tensor2d.shape"
      ],
      "metadata": {
        "colab": {
          "base_uri": "https://localhost:8080/"
        },
        "id": "ajjMZVNZ9BHk",
        "outputId": "e69a9b19-de01-4e4d-a360-e05a917ede92"
      },
      "execution_count": 101,
      "outputs": [
        {
          "output_type": "execute_result",
          "data": {
            "text/plain": [
              "torch.Size([2, 3])"
            ]
          },
          "metadata": {},
          "execution_count": 101
        }
      ]
    },
    {
      "cell_type": "code",
      "source": [
        "tensor2d.reshape(3,2)"
      ],
      "metadata": {
        "colab": {
          "base_uri": "https://localhost:8080/"
        },
        "id": "gAuFOFzo9EAP",
        "outputId": "652bc678-d0b4-4329-c922-7d0ac3a05415"
      },
      "execution_count": 102,
      "outputs": [
        {
          "output_type": "execute_result",
          "data": {
            "text/plain": [
              "tensor([[1, 2],\n",
              "        [3, 4],\n",
              "        [5, 6]])"
            ]
          },
          "metadata": {},
          "execution_count": 102
        }
      ]
    },
    {
      "cell_type": "code",
      "source": [
        "tensor2d.view(3,2)"
      ],
      "metadata": {
        "colab": {
          "base_uri": "https://localhost:8080/"
        },
        "id": "gQsBHeKo9Mhe",
        "outputId": "8f7ce56f-0bdd-4c6f-982e-32c5c349a960"
      },
      "execution_count": 103,
      "outputs": [
        {
          "output_type": "execute_result",
          "data": {
            "text/plain": [
              "tensor([[1, 2],\n",
              "        [3, 4],\n",
              "        [5, 6]])"
            ]
          },
          "metadata": {},
          "execution_count": 103
        }
      ]
    },
    {
      "cell_type": "code",
      "source": [
        "tensor2d.T"
      ],
      "metadata": {
        "colab": {
          "base_uri": "https://localhost:8080/"
        },
        "id": "pjr2yuKx91Oj",
        "outputId": "441a2e5a-0c26-44f7-cd28-c4dfe1212e58"
      },
      "execution_count": 104,
      "outputs": [
        {
          "output_type": "execute_result",
          "data": {
            "text/plain": [
              "tensor([[1, 4],\n",
              "        [2, 5],\n",
              "        [3, 6]])"
            ]
          },
          "metadata": {},
          "execution_count": 104
        }
      ]
    },
    {
      "cell_type": "code",
      "source": [
        "tensor2d.matmul(tensor2d.T)"
      ],
      "metadata": {
        "colab": {
          "base_uri": "https://localhost:8080/"
        },
        "id": "N3ZO1h3A97vy",
        "outputId": "da572913-6b17-4d91-8757-e35d138b423b"
      },
      "execution_count": 105,
      "outputs": [
        {
          "output_type": "execute_result",
          "data": {
            "text/plain": [
              "tensor([[14, 32],\n",
              "        [32, 77]])"
            ]
          },
          "metadata": {},
          "execution_count": 105
        }
      ]
    },
    {
      "cell_type": "code",
      "source": [
        "tensor2d @ tensor2d.T"
      ],
      "metadata": {
        "colab": {
          "base_uri": "https://localhost:8080/"
        },
        "id": "xZDEgiIl-LI_",
        "outputId": "64f1569c-e289-4ff9-9b03-9865cfc5d9df"
      },
      "execution_count": 106,
      "outputs": [
        {
          "output_type": "execute_result",
          "data": {
            "text/plain": [
              "tensor([[14, 32],\n",
              "        [32, 77]])"
            ]
          },
          "metadata": {},
          "execution_count": 106
        }
      ]
    },
    {
      "cell_type": "code",
      "source": [
        "import torch.nn.functional as F\n",
        "\n",
        "y= torch.tensor([1.0]) #true label\n",
        "x1 = torch.tensor([1.1]) #input feature\n",
        "w1 = torch.tensor([2.2]) # weight parameter\n",
        "b = torch.tensor([0.0]) #bias unit\n",
        "\n",
        "z = x1*w1 + b\n",
        "a = torch.sigmoid(z)\n",
        "\n",
        "loss = F.binary_cross_entropy(a,y)\n",
        "print(loss)"
      ],
      "metadata": {
        "colab": {
          "base_uri": "https://localhost:8080/"
        },
        "id": "MGW0gxXV-W8I",
        "outputId": "a39fc413-f7da-4796-b20d-9dca71e3388d"
      },
      "execution_count": 107,
      "outputs": [
        {
          "output_type": "stream",
          "name": "stdout",
          "text": [
            "tensor(0.0852)\n"
          ]
        }
      ]
    },
    {
      "cell_type": "markdown",
      "source": [
        "**Automatic Differentiation**"
      ],
      "metadata": {
        "id": "4-iRRKbRDG-a"
      }
    },
    {
      "cell_type": "code",
      "source": [
        "import torch.nn.functional as F\n",
        "from torch.autograd import grad\n",
        "\n",
        "y = torch.tensor([1.0]) #true label\n",
        "x1 = torch.tensor([2.0]) #input feature\n",
        "w1 = torch.tensor([1.2],requires_grad = True) #weight bias\n",
        "b = torch.tensor([0.0],requires_grad = True)\n",
        "z = x1*w1 + b\n",
        "a = torch.sigmoid(z)\n",
        "\n",
        "loss = F.binary_cross_entropy(a,y)\n",
        "grad_L_w1 = grad(loss, w1,retain_graph=True)\n",
        "grad_L_b = grad(loss,b,retain_graph=True)\n",
        "\n",
        "print(grad_L_w1)\n",
        "print(grad_L_b)"
      ],
      "metadata": {
        "colab": {
          "base_uri": "https://localhost:8080/"
        },
        "id": "bBkDIlVAAa41",
        "outputId": "2e06f940-2494-491b-9389-327405b15e0c"
      },
      "execution_count": 108,
      "outputs": [
        {
          "output_type": "stream",
          "name": "stdout",
          "text": [
            "(tensor([-0.1663]),)\n",
            "(tensor([-0.0832]),)\n"
          ]
        }
      ]
    },
    {
      "cell_type": "code",
      "source": [
        "loss.backward()\n",
        "print(w1.grad)\n",
        "print(b.grad)"
      ],
      "metadata": {
        "colab": {
          "base_uri": "https://localhost:8080/"
        },
        "id": "Jzi_9c2CElAR",
        "outputId": "bfb4c7a2-fcb9-4960-f5c5-3afc90247837"
      },
      "execution_count": 109,
      "outputs": [
        {
          "output_type": "stream",
          "name": "stdout",
          "text": [
            "tensor([-0.1663])\n",
            "tensor([-0.0832])\n"
          ]
        }
      ]
    },
    {
      "cell_type": "code",
      "source": [],
      "metadata": {
        "id": "QcHhz-2_Hzat"
      },
      "execution_count": 109,
      "outputs": []
    },
    {
      "cell_type": "markdown",
      "source": [
        "**Implementing multilayer neural network**"
      ],
      "metadata": {
        "id": "ErKgnrnmIf4B"
      }
    },
    {
      "cell_type": "code",
      "source": [
        "class NeuralNetwork(torch.nn.Module):\n",
        "  def __init__(self,num_inputs,num_outputs):\n",
        "    super().__init__()\n",
        "\n",
        "    self.layers = torch.nn.Sequential(\n",
        "        #1st hidden layer\n",
        "        torch.nn.Linear(num_inputs,30),\n",
        "        torch.nn.ReLU(),\n",
        "\n",
        "        #2nd hidden layer\n",
        "        torch.nn.Linear(30,20),\n",
        "        torch.nn.ReLU(),\n",
        "\n",
        "        #output layer\n",
        "        torch.nn.Linear(20,num_outputs),\n",
        "    )\n",
        "\n",
        "  def forward(self,x):\n",
        "      logits = self.layers(x)\n",
        "      return logits"
      ],
      "metadata": {
        "id": "c9S4vqeDIkdo"
      },
      "execution_count": 110,
      "outputs": []
    },
    {
      "cell_type": "code",
      "source": [
        "model = NeuralNetwork(50,3)"
      ],
      "metadata": {
        "id": "-nM7ce3gdxoc"
      },
      "execution_count": 111,
      "outputs": []
    },
    {
      "cell_type": "code",
      "source": [
        "print(model)"
      ],
      "metadata": {
        "colab": {
          "base_uri": "https://localhost:8080/"
        },
        "id": "9-FIW3kOd2AG",
        "outputId": "f284d255-f6b9-4fae-d33f-0d63b770f685"
      },
      "execution_count": 112,
      "outputs": [
        {
          "output_type": "stream",
          "name": "stdout",
          "text": [
            "NeuralNetwork(\n",
            "  (layers): Sequential(\n",
            "    (0): Linear(in_features=50, out_features=30, bias=True)\n",
            "    (1): ReLU()\n",
            "    (2): Linear(in_features=30, out_features=20, bias=True)\n",
            "    (3): ReLU()\n",
            "    (4): Linear(in_features=20, out_features=3, bias=True)\n",
            "  )\n",
            ")\n"
          ]
        }
      ]
    },
    {
      "cell_type": "code",
      "source": [
        "num_params = sum(p.numel() for p in model.parameters() if p.requires_grad)\n",
        "print(\"Total number of trainable model parameters\", num_params)"
      ],
      "metadata": {
        "colab": {
          "base_uri": "https://localhost:8080/"
        },
        "id": "VBrZXUdBd4G_",
        "outputId": "5a106c70-2d62-4536-cc7c-2a49363bf2a8"
      },
      "execution_count": 113,
      "outputs": [
        {
          "output_type": "stream",
          "name": "stdout",
          "text": [
            "Total number of trainable model parameters 2213\n"
          ]
        }
      ]
    },
    {
      "cell_type": "code",
      "source": [
        "print(model.layers[0].weight)"
      ],
      "metadata": {
        "colab": {
          "base_uri": "https://localhost:8080/"
        },
        "id": "3l3n9DgdeS-K",
        "outputId": "b9fdfed7-13b6-4738-f88c-d543ae2f3308"
      },
      "execution_count": 114,
      "outputs": [
        {
          "output_type": "stream",
          "name": "stdout",
          "text": [
            "Parameter containing:\n",
            "tensor([[ 0.0502,  0.0307,  0.0333,  ...,  0.0951,  0.1134, -0.0297],\n",
            "        [ 0.1077, -0.1108,  0.0122,  ...,  0.0108, -0.1049, -0.1063],\n",
            "        [-0.0920, -0.0480,  0.0105,  ..., -0.0923,  0.1201,  0.0330],\n",
            "        ...,\n",
            "        [ 0.1359,  0.0175, -0.0673,  ...,  0.0674,  0.0676,  0.1058],\n",
            "        [ 0.0790,  0.1343, -0.0293,  ...,  0.0344, -0.0971, -0.0509],\n",
            "        [-0.1250,  0.0513,  0.0366,  ..., -0.1370,  0.1074, -0.0704]],\n",
            "       requires_grad=True)\n"
          ]
        }
      ]
    },
    {
      "cell_type": "code",
      "source": [
        "torch.manual_seed(123)\n",
        "model = NeuralNetwork(50,3)\n",
        "print(model.layers[0].weight)"
      ],
      "metadata": {
        "colab": {
          "base_uri": "https://localhost:8080/"
        },
        "id": "dAQ0_edxgEVk",
        "outputId": "017cf6b6-49c6-454a-d39b-6b955187d6d1"
      },
      "execution_count": 115,
      "outputs": [
        {
          "output_type": "stream",
          "name": "stdout",
          "text": [
            "Parameter containing:\n",
            "tensor([[-0.0577,  0.0047, -0.0702,  ...,  0.0222,  0.1260,  0.0865],\n",
            "        [ 0.0502,  0.0307,  0.0333,  ...,  0.0951,  0.1134, -0.0297],\n",
            "        [ 0.1077, -0.1108,  0.0122,  ...,  0.0108, -0.1049, -0.1063],\n",
            "        ...,\n",
            "        [-0.0787,  0.1259,  0.0803,  ...,  0.1218,  0.1303, -0.1351],\n",
            "        [ 0.1359,  0.0175, -0.0673,  ...,  0.0674,  0.0676,  0.1058],\n",
            "        [ 0.0790,  0.1343, -0.0293,  ...,  0.0344, -0.0971, -0.0509]],\n",
            "       requires_grad=True)\n"
          ]
        }
      ]
    },
    {
      "cell_type": "code",
      "source": [
        "print(model.layers[0].weight.shape)"
      ],
      "metadata": {
        "colab": {
          "base_uri": "https://localhost:8080/"
        },
        "id": "s18SE_i_gzAb",
        "outputId": "b0acd196-be1c-4452-e491-6c440fd05c7f"
      },
      "execution_count": 116,
      "outputs": [
        {
          "output_type": "stream",
          "name": "stdout",
          "text": [
            "torch.Size([30, 50])\n"
          ]
        }
      ]
    },
    {
      "cell_type": "code",
      "source": [
        "torch.manual_seed(123)\n",
        "\n",
        "X = torch.rand((1, 50))\n",
        "out = model(X)\n",
        "print(out)"
      ],
      "metadata": {
        "colab": {
          "base_uri": "https://localhost:8080/"
        },
        "id": "ayxWAKtyg4tP",
        "outputId": "55cc8371-98b0-45b9-b1aa-56db9b5fc70d"
      },
      "execution_count": 117,
      "outputs": [
        {
          "output_type": "stream",
          "name": "stdout",
          "text": [
            "tensor([[-0.1262,  0.1080, -0.1792]], grad_fn=<AddmmBackward0>)\n"
          ]
        }
      ]
    },
    {
      "cell_type": "code",
      "source": [
        "with torch.no_grad():\n",
        "  out = model(X)\n",
        "print(out)"
      ],
      "metadata": {
        "colab": {
          "base_uri": "https://localhost:8080/"
        },
        "id": "ZA0JfDRJhOS4",
        "outputId": "b28c9306-910a-450e-b991-4ee77b2af105"
      },
      "execution_count": 118,
      "outputs": [
        {
          "output_type": "stream",
          "name": "stdout",
          "text": [
            "tensor([[-0.1262,  0.1080, -0.1792]])\n"
          ]
        }
      ]
    },
    {
      "cell_type": "code",
      "source": [
        "with torch.no_grad():\n",
        "  out = torch.softmax(model(X),dim=1)\n",
        "\n",
        "print(out)"
      ],
      "metadata": {
        "colab": {
          "base_uri": "https://localhost:8080/"
        },
        "id": "3vYhLqc4htLh",
        "outputId": "9c79f25b-630c-4cfa-c3a4-8396b1d1ef83"
      },
      "execution_count": 119,
      "outputs": [
        {
          "output_type": "stream",
          "name": "stdout",
          "text": [
            "tensor([[0.3113, 0.3934, 0.2952]])\n"
          ]
        }
      ]
    },
    {
      "cell_type": "markdown",
      "source": [
        "**setting up efficient data loaders**"
      ],
      "metadata": {
        "id": "hMLS8Z52y01x"
      }
    },
    {
      "cell_type": "code",
      "source": [
        "X_train = torch.tensor([\n",
        "    [-1.2, 3.0],\n",
        "    [-0.9, 2.9],\n",
        "    [-0.5, 2.6],\n",
        "    [2.3, -1.1],\n",
        "    [2.7, -1.5]\n",
        "\n",
        "])\n",
        "y_train = torch.tensor([0, 0, 0, 1, 1])"
      ],
      "metadata": {
        "id": "heCxaw4lh7ax"
      },
      "execution_count": 120,
      "outputs": []
    },
    {
      "cell_type": "code",
      "source": [
        "X_test = torch.tensor([\n",
        "    [-0.8, 2.8],\n",
        "    [2.6, -1.6]\n",
        "])\n",
        "y_test = torch.tensor([0,1])"
      ],
      "metadata": {
        "id": "3jCCMa-4zcQU"
      },
      "execution_count": 121,
      "outputs": []
    },
    {
      "cell_type": "code",
      "source": [
        "from torch.utils.data import Dataset\n",
        "class ToyDataset(Dataset):\n",
        "  def __init__(self,X,y):\n",
        "    self.features = X\n",
        "    self.labels = y\n",
        "  def __getitem__(self,index):\n",
        "    one_x = self.features[index]\n",
        "    one_y = self.labels[index]\n",
        "    return one_x, one_y\n",
        "  def __len__(self):\n",
        "    return self.labels.shape[0]\n",
        "\n",
        "train_ds = ToyDataset(X_train,y_train)\n",
        "test_ds = ToyDataset(X_test,y_test)"
      ],
      "metadata": {
        "id": "kN94sID3zpj1"
      },
      "execution_count": 122,
      "outputs": []
    },
    {
      "cell_type": "code",
      "source": [
        "len(train_ds)"
      ],
      "metadata": {
        "colab": {
          "base_uri": "https://localhost:8080/"
        },
        "id": "lSTEN9bk0ml6",
        "outputId": "a54a5115-b4c0-48a1-9ca3-47e2954b1484"
      },
      "execution_count": 123,
      "outputs": [
        {
          "output_type": "execute_result",
          "data": {
            "text/plain": [
              "5"
            ]
          },
          "metadata": {},
          "execution_count": 123
        }
      ]
    },
    {
      "cell_type": "code",
      "source": [
        "from torch.utils.data import DataLoader\n",
        "\n",
        "torch.manual_seed(123)\n",
        "train_loader = DataLoader(\n",
        "    dataset = train_ds,\n",
        "    batch_size =2,\n",
        "    shuffle =True,\n",
        "    num_workers=0\n",
        ")"
      ],
      "metadata": {
        "id": "lr7AjNcL0qyQ"
      },
      "execution_count": 130,
      "outputs": []
    },
    {
      "cell_type": "code",
      "source": [
        "test_loader = DataLoader(\n",
        "    dataset = test_ds,\n",
        "    batch_size = 2,\n",
        "    shuffle = False,\n",
        "    num_workers =0\n",
        ")"
      ],
      "metadata": {
        "id": "RDO_Bk_K24ph"
      },
      "execution_count": 131,
      "outputs": []
    },
    {
      "cell_type": "code",
      "source": [
        "for idx, (x,y) in enumerate(train_loader):\n",
        "  print(f\"Batch {idx+1} : \", x,y)\n",
        ""
      ],
      "metadata": {
        "colab": {
          "base_uri": "https://localhost:8080/"
        },
        "id": "DHM3qLJj3FCN",
        "outputId": "2f13a057-45ab-42a7-95a0-b4d2ac01bacb"
      },
      "execution_count": 132,
      "outputs": [
        {
          "output_type": "stream",
          "name": "stdout",
          "text": [
            "Batch 1 :  tensor([[ 2.3000, -1.1000],\n",
            "        [-0.9000,  2.9000]]) tensor([1, 0])\n",
            "Batch 2 :  tensor([[-1.2000,  3.0000],\n",
            "        [-0.5000,  2.6000]]) tensor([0, 0])\n",
            "Batch 3 :  tensor([[ 2.7000, -1.5000]]) tensor([1])\n"
          ]
        }
      ]
    },
    {
      "cell_type": "code",
      "source": [
        "train_loader = DataLoader(\n",
        "    dataset = train_ds,\n",
        "    batch_size =2,\n",
        "    shuffle = True,\n",
        "    num_workers= 0,\n",
        "    drop_last = True\n",
        ")"
      ],
      "metadata": {
        "id": "QK5UbkhA3QV2"
      },
      "execution_count": 133,
      "outputs": []
    },
    {
      "cell_type": "code",
      "source": [
        "for idx,(x,y) in enumerate(train_loader):\n",
        "  print(f\"Batch {idx+1}: \", x,y)"
      ],
      "metadata": {
        "colab": {
          "base_uri": "https://localhost:8080/"
        },
        "id": "U8uFgF9N3-_m",
        "outputId": "9ec61cf2-8e7a-4245-ec9e-80ebad55975e"
      },
      "execution_count": 134,
      "outputs": [
        {
          "output_type": "stream",
          "name": "stdout",
          "text": [
            "Batch 1:  tensor([[-1.2000,  3.0000],\n",
            "        [-0.5000,  2.6000]]) tensor([0, 0])\n",
            "Batch 2:  tensor([[ 2.3000, -1.1000],\n",
            "        [-0.9000,  2.9000]]) tensor([1, 0])\n"
          ]
        }
      ]
    },
    {
      "cell_type": "markdown",
      "source": [
        "**A typical training loop**"
      ],
      "metadata": {
        "id": "OxkOJhba5xrc"
      }
    },
    {
      "cell_type": "code",
      "source": [
        "import torch.nn.functional as F\n",
        "\n",
        "torch.manual_seed(123)\n",
        "model = NeuralNetwork(num_inputs=2,num_outputs=2)\n",
        "optimizer = torch.optim.SGD(model.parameters(),lr=0.5)\n",
        "\n",
        "num_epochs = 3\n",
        "for epoch in range(num_epochs):\n",
        "  model.train()\n",
        "  for batch_idx, (features,labels) in enumerate(train_loader):\n",
        "    logits = model(features)\n",
        "    loss = F.cross_entropy(logits,labels)\n",
        "    optimizer.zero_grad()\n",
        "    loss.backward()\n",
        "    optimizer.step()\n",
        "\n",
        "    #logging\n",
        "    print(f\"Epoch: {epoch+1:03d}/num_epochs:03d\"\n",
        "    f\"| Batch: {batch_idx:03d}/{len(train_loader):03d}\"\n",
        "    f\"| Train/Val Loss: {loss:.2f}\")\n",
        "  model.eval()"
      ],
      "metadata": {
        "colab": {
          "base_uri": "https://localhost:8080/"
        },
        "id": "FkKFM-Ol4SQV",
        "outputId": "f8b0c994-7bb9-42cb-c26b-865d7486799a"
      },
      "execution_count": 136,
      "outputs": [
        {
          "output_type": "stream",
          "name": "stdout",
          "text": [
            "Epoch: 001/num_epochs:03d| Batch: 000/002| Train/Val Loss: 0.75\n",
            "Epoch: 001/num_epochs:03d| Batch: 001/002| Train/Val Loss: 0.65\n",
            "Epoch: 002/num_epochs:03d| Batch: 000/002| Train/Val Loss: 0.44\n",
            "Epoch: 002/num_epochs:03d| Batch: 001/002| Train/Val Loss: 0.12\n",
            "Epoch: 003/num_epochs:03d| Batch: 000/002| Train/Val Loss: 0.03\n",
            "Epoch: 003/num_epochs:03d| Batch: 001/002| Train/Val Loss: 0.00\n"
          ]
        }
      ]
    },
    {
      "cell_type": "code",
      "source": [
        "model.eval()\n",
        "with torch.no_grad():\n",
        "  outputs = model(X_train)\n",
        "\n",
        "print(outputs)"
      ],
      "metadata": {
        "colab": {
          "base_uri": "https://localhost:8080/"
        },
        "id": "3Pq8zgXm9ORs",
        "outputId": "87e65c0a-29b6-4d5c-85fb-9f376560a51e"
      },
      "execution_count": 137,
      "outputs": [
        {
          "output_type": "stream",
          "name": "stdout",
          "text": [
            "tensor([[ 2.7776, -4.0477],\n",
            "        [ 2.5311, -3.7465],\n",
            "        [ 2.0880, -3.1744],\n",
            "        [-1.4819,  1.4822],\n",
            "        [-1.7182,  1.7348]])\n"
          ]
        }
      ]
    },
    {
      "cell_type": "code",
      "source": [
        "torch.set_printoptions(sci_mode =False)\n",
        "probas = torch.softmax(outputs,dim=1)\n",
        "print(probas)\n",
        "\n",
        "\n",
        "predictions = torch.argmax(outputs,dim=1)\n",
        "print(predictions)"
      ],
      "metadata": {
        "colab": {
          "base_uri": "https://localhost:8080/"
        },
        "id": "heyRioHtBLAc",
        "outputId": "a1d20816-914d-49e6-c79d-b1d4d4080a5b"
      },
      "execution_count": 138,
      "outputs": [
        {
          "output_type": "stream",
          "name": "stdout",
          "text": [
            "tensor([[0.9989, 0.0011],\n",
            "        [0.9981, 0.0019],\n",
            "        [0.9948, 0.0052],\n",
            "        [0.0491, 0.9509],\n",
            "        [0.0307, 0.9693]])\n",
            "tensor([0, 0, 0, 1, 1])\n"
          ]
        }
      ]
    },
    {
      "cell_type": "code",
      "source": [
        "predictions == y_train"
      ],
      "metadata": {
        "colab": {
          "base_uri": "https://localhost:8080/"
        },
        "id": "LI4VGbIBBtiV",
        "outputId": "2cbf2cdc-3115-4f56-84c2-2fd4e8fdebf6"
      },
      "execution_count": 139,
      "outputs": [
        {
          "output_type": "execute_result",
          "data": {
            "text/plain": [
              "tensor([True, True, True, True, True])"
            ]
          },
          "metadata": {},
          "execution_count": 139
        }
      ]
    },
    {
      "cell_type": "code",
      "source": [
        "torch.sum(predictions==y_train)"
      ],
      "metadata": {
        "colab": {
          "base_uri": "https://localhost:8080/"
        },
        "id": "39luVVI8B39K",
        "outputId": "1acedf21-a5c8-49b3-d25b-74d1c0115ad2"
      },
      "execution_count": 140,
      "outputs": [
        {
          "output_type": "execute_result",
          "data": {
            "text/plain": [
              "tensor(5)"
            ]
          },
          "metadata": {},
          "execution_count": 140
        }
      ]
    },
    {
      "cell_type": "code",
      "source": [
        "def compute_accuracy(model, dataloader):\n",
        "\n",
        "    model = model.eval()\n",
        "    correct = 0.0\n",
        "    total_examples = 0\n",
        "\n",
        "    for idx, (features, labels) in enumerate(dataloader):\n",
        "\n",
        "        with torch.no_grad():\n",
        "            logits = model(features)\n",
        "\n",
        "        predictions = torch.argmax(logits, dim=1)\n",
        "        compare = labels == predictions\n",
        "        correct += torch.sum(compare)\n",
        "        total_examples += len(compare)\n",
        "\n",
        "    return (correct / total_examples).item()"
      ],
      "metadata": {
        "id": "ClMr3jkxCFEv"
      },
      "execution_count": 141,
      "outputs": []
    },
    {
      "cell_type": "code",
      "source": [
        "compute_accuracy(model, train_loader)"
      ],
      "metadata": {
        "colab": {
          "base_uri": "https://localhost:8080/"
        },
        "id": "DCGnJ-M0DGFI",
        "outputId": "b7b1275b-e008-4856-e52f-8d1aaf924203"
      },
      "execution_count": 142,
      "outputs": [
        {
          "output_type": "execute_result",
          "data": {
            "text/plain": [
              "1.0"
            ]
          },
          "metadata": {},
          "execution_count": 142
        }
      ]
    },
    {
      "cell_type": "code",
      "source": [],
      "metadata": {
        "id": "IWzPjtp3DNtd"
      },
      "execution_count": null,
      "outputs": []
    }
  ]
}